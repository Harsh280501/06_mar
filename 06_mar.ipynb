{
 "cells": [
  {
   "cell_type": "markdown",
   "id": "b0caf256-cb35-43fe-a5bf-c21381ce80d9",
   "metadata": {},
   "source": [
    "Q1. What is Statistics?"
   ]
  },
  {
   "cell_type": "markdown",
   "id": "9b2a0973-d5d5-4629-80c6-604af42d9f55",
   "metadata": {},
   "source": [
    "tatistics is the study of the collection, analysis, interpretation, presentation, and organization of data. In other words, it is a mathematical discipline to collect, summarize data. Also, we can say that statistics is a branch of applied mathematics"
   ]
  },
  {
   "cell_type": "code",
   "execution_count": null,
   "id": "2847237e-33f4-4f14-9b89-374ac021d581",
   "metadata": {},
   "outputs": [],
   "source": []
  },
  {
   "cell_type": "markdown",
   "id": "db62ec61-4306-4bca-ab21-159264c126a6",
   "metadata": {},
   "source": [
    "Q2. Define the different types of statistics and give an example of when each type might be used."
   ]
  },
  {
   "cell_type": "markdown",
   "id": "95b97fa7-6f37-4246-8a8c-40965a75827e",
   "metadata": {},
   "source": [
    "1) Descriptive Statistics\n",
    "\n",
    "-->In the descriptive Statistics, the Data is described in a summarized way. The summarization is done from the sample of the population using different parameters like Mean or standard deviation. Descriptive Statistics are a way of using charts, graphs, and summary measures to organize, represent, and explain a set of Data. \n",
    "\n",
    "2) Inferential Statistics\n",
    "\n",
    "-->In the Inferential Statistics, we try to interpret the Meaning of descriptive Statistics. After the Data has been collected, analyzed, and summarised we use Inferential Statistics to describe the Meaning of the collected Data. \n"
   ]
  },
  {
   "cell_type": "code",
   "execution_count": null,
   "id": "1d32c582-1584-427d-950c-c317d5d675b1",
   "metadata": {},
   "outputs": [],
   "source": []
  },
  {
   "cell_type": "markdown",
   "id": "c7d82173-a487-408c-9738-14bbe70006dc",
   "metadata": {},
   "source": [
    "Q3. What are the different types of data and how do they differ from each other? Provide an example of\n",
    "each type of data."
   ]
  },
  {
   "cell_type": "markdown",
   "id": "f6b0584b-4d0c-4cdb-bb11-af777f810768",
   "metadata": {},
   "source": [
    "-->Nominal\n",
    "\n",
    "These are the set of values that don’t possess a natural ordering. Let’s understand this with some examples. The color of a smartphone can be considered as a nominal data type as we can’t compare one color with others.\n",
    "\n",
    "-->Ordinal\n",
    "\n",
    "These types of values have a natural ordering while maintaining their class of values. If we consider the size of a clothing brand then we can easily sort them according to their name tag in the order of small < medium < large. \n",
    "\n",
    "-->Discrete\n",
    "\n",
    "The numerical values which fall under are integers or whole numbers are placed under this category. The number of speakers in the phone, cameras, cores in the processor, the number of sims supported all these are some of the examples of the discrete data type.\n",
    "\n",
    "-->Continuous\n",
    "\n",
    "The fractional numbers are considered as continuous values. These can take the form of the operating frequency of the processors, the android version of the phone, wifi frequency, temperature of the cores, and so on. "
   ]
  },
  {
   "cell_type": "code",
   "execution_count": null,
   "id": "6e414f41-8ec6-49e3-9884-51149dceadf2",
   "metadata": {},
   "outputs": [],
   "source": []
  },
  {
   "cell_type": "markdown",
   "id": "03499871-30bf-40a2-98bb-9710cae97680",
   "metadata": {},
   "source": [
    "Q4. Categorise the following datasets with respect to quantitative and qualitative data types:\n",
    "\n",
    "(i) Grading in exam: A+, A, B+, B, C+, C, D, E\n",
    "\n",
    "(ii) Colour of mangoes: yellow, green, orange, red\n",
    "\n",
    "(iii) Height data of a class: [178.9, 179, 179.5, 176, 177.2, 178.3, 175.8,...]\n",
    "\n",
    "(iv) Number of mangoes exported by a farm: [500, 600, 478, 672, ...]"
   ]
  },
  {
   "cell_type": "markdown",
   "id": "189ec2cc-f07f-4b46-bc86-172881c81c5b",
   "metadata": {},
   "source": [
    "i) Qualitative\n",
    "\n",
    "ii) Qualitative\n",
    "\n",
    "iii) Quantitative\n",
    "\n",
    "iv) Quantitative\n"
   ]
  },
  {
   "cell_type": "code",
   "execution_count": null,
   "id": "ba518389-13ee-4c76-974c-3d3c3d501d14",
   "metadata": {},
   "outputs": [],
   "source": []
  },
  {
   "cell_type": "markdown",
   "id": "a9ba7411-3087-42fe-ab35-eb4efa346c33",
   "metadata": {},
   "source": [
    "Q5. Explain the concept of levels of measurement and give an example of a variable for each level."
   ]
  },
  {
   "cell_type": "markdown",
   "id": "9c8bb6bc-f6bc-4359-942f-f572ffe500b4",
   "metadata": {},
   "source": [
    "1)The nominal scale simply categorizes variables according to qualitative labels (or names). These labels and groupings don’t have any order or hierarchy to them, nor do they convey any numerical value\n",
    "\n",
    "2)The ordinal scale also categorizes variables into labeled groups, and these categories have an order or hierarchy to them. For example, you could measure the variable “income” on an ordinal scale as follows: low income, medium income, high income.\n",
    "\n",
    "3)The interval scale is a numerical scale which labels and orders variables, with a known, evenly spaced interval between each of the values.\n",
    "\n",
    "4)The ratio scale is exactly the same as the interval scale, with one key difference: The ratio scale has what’s known as a “true zero.” A good example of ratio data is weight in kilograms.\n",
    "\n"
   ]
  },
  {
   "cell_type": "code",
   "execution_count": null,
   "id": "c4a092c1-1c39-4c73-ba28-dfcecf45360a",
   "metadata": {},
   "outputs": [],
   "source": []
  },
  {
   "cell_type": "markdown",
   "id": "98b3dfa7-7d45-4329-841b-6f80c61336cb",
   "metadata": {},
   "source": [
    "Q6. Why is it important to understand the level of measurement when analyzing data? Provide an\n",
    "example to illustrate your answer."
   ]
  },
  {
   "cell_type": "markdown",
   "id": "af9116ac-6826-4080-9068-ae8d8f348a5b",
   "metadata": {},
   "source": [
    "-->Level of measurement is important as it determines the type of statistical analysis you can carry out. As a result, it affects both the nature and the depth of insights you’re able to glean from your data. Certain statistical tests can only be performed where more precise levels of measurement have been used, so it’s essential to plan in advance how you’ll gather and measure your data.\n",
    "\n"
   ]
  },
  {
   "cell_type": "markdown",
   "id": "9f8f4589-8cc1-49db-94e9-8911730b5dc0",
   "metadata": {},
   "source": []
  },
  {
   "cell_type": "code",
   "execution_count": null,
   "id": "44019779-8278-49a8-b8e6-4dba439aec61",
   "metadata": {},
   "outputs": [],
   "source": []
  },
  {
   "cell_type": "markdown",
   "id": "74446457-be46-491c-89ad-7f4bb1c0127d",
   "metadata": {},
   "source": [
    "Q7. How nominal data type is different from ordinal data type."
   ]
  },
  {
   "cell_type": "markdown",
   "id": "50311581-0e3a-47b0-bf56-afa44be48cb1",
   "metadata": {},
   "source": [
    "Nominal data involves naming or identifying data; because the word \"nominal\" shares a Latin root with the word \"name\" and has a similar sound, nominal data's function is easy to remember. Ordinal data involves placing information into an order, and \"ordinal\" and \"order\" sound alike, making the function of ordinal data also easy to remember."
   ]
  },
  {
   "cell_type": "code",
   "execution_count": null,
   "id": "72851c30-6f03-4a7e-84fc-cd6318d2eea0",
   "metadata": {},
   "outputs": [],
   "source": []
  },
  {
   "cell_type": "markdown",
   "id": "ba820cdb-c00d-4869-9f5f-f0699802e13a",
   "metadata": {},
   "source": [
    "Q8. Which type of plot can be used to display data in terms of range?"
   ]
  },
  {
   "cell_type": "markdown",
   "id": "f0e804f7-33c1-4d22-a405-2fb16d030e1b",
   "metadata": {},
   "source": [
    "\n",
    "Box plot is a graphical representation of numerical data that can be used to understand the variability of the data and the existence of outliers. Box plot is designed by identifying the following descriptive statistics."
   ]
  },
  {
   "cell_type": "code",
   "execution_count": null,
   "id": "64f49e58-18ac-408d-9403-aaf838201576",
   "metadata": {},
   "outputs": [],
   "source": []
  },
  {
   "cell_type": "markdown",
   "id": "dcb855bf-318f-4086-acfa-b937a335225d",
   "metadata": {},
   "source": [
    "Q9. Describe the difference between descriptive and inferential statistics. Give an example of each\n",
    "type of statistics and explain how they are used."
   ]
  },
  {
   "cell_type": "markdown",
   "id": "75487cb5-2e22-41a5-ac3a-5dc8d76082cf",
   "metadata": {},
   "source": [
    "Descriptive statistics summarize and describe the main features of a dataset, while inferential statistics use sample data to make predictions or draw conclusions about a population. Descriptive statistics include central tendency and dispersion measures, while inferential statistics involve hypothesis testing and estimation techniques."
   ]
  },
  {
   "cell_type": "code",
   "execution_count": null,
   "id": "d5189131-febb-4064-af09-2e28271f4ec6",
   "metadata": {},
   "outputs": [],
   "source": []
  },
  {
   "cell_type": "code",
   "execution_count": null,
   "id": "dcc5c1f9-656a-4e9d-beec-040652b233f0",
   "metadata": {},
   "outputs": [],
   "source": []
  },
  {
   "cell_type": "markdown",
   "id": "feec1e26-b926-4fb0-88c6-570b662e0f1e",
   "metadata": {},
   "source": [
    "Q10. What are some common measures of central tendency and variability used in statistics? Explain\n",
    "how each measure can be used to describe a dataset."
   ]
  },
  {
   "cell_type": "markdown",
   "id": "12bc6d99-3764-43e9-9570-273f0c4683e8",
   "metadata": {},
   "source": [
    "--> Measures of central tendency help you find the middle, or the average, of a dataset. The 3 most common measures of central tendency are the mode, median, and mean.\n",
    "\n",
    "Mode: the most frequent value.\n",
    "Median: the middle number in an ordered dataset.\n",
    "Mean: the sum of all values divided by the total number of values."
   ]
  },
  {
   "cell_type": "code",
   "execution_count": null,
   "id": "60119bee-d430-438a-9bdd-a5c27dc75be0",
   "metadata": {},
   "outputs": [],
   "source": []
  },
  {
   "cell_type": "code",
   "execution_count": null,
   "id": "7a302e77-32d3-4a38-976e-29f575366764",
   "metadata": {},
   "outputs": [],
   "source": []
  }
 ],
 "metadata": {
  "kernelspec": {
   "display_name": "Python 3 (ipykernel)",
   "language": "python",
   "name": "python3"
  },
  "language_info": {
   "codemirror_mode": {
    "name": "ipython",
    "version": 3
   },
   "file_extension": ".py",
   "mimetype": "text/x-python",
   "name": "python",
   "nbconvert_exporter": "python",
   "pygments_lexer": "ipython3",
   "version": "3.10.8"
  }
 },
 "nbformat": 4,
 "nbformat_minor": 5
}
